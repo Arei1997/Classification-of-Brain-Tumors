{
 "cells": [
  {
   "cell_type": "markdown",
   "metadata": {},
   "source": [
    "# Classification of Brain Tumors with CNN"
   ]
  },
  {
   "cell_type": "markdown",
   "metadata": {},
   "source": [
    "This project aims to use Convolutional Neural Networks(CNN) and pre trained models to detect brain cancers from MRI scans. \n",
    "Why is this project useful?\n",
    "\n",
    "- Early detection is crustial for timely intervetion thus can increase the chances of successful treatment and recovery.\n",
    "- Accurately classifying different types of brain tumors, healthcare professionals can tailor treatement to individual patients.\n",
    "- Automating the classification of brain tumors with CNNS can help alleviate the workload of healthcare professionals such as radiologts.\n"
   ]
  },
  {
   "cell_type": "markdown",
   "metadata": {},
   "source": [
    "Approach:\n",
    "\n",
    "- Data exploration : Understating the datasets charactaristcs such as size, distrubution of classes and quality of images. This identifies portential challengers and biases that may affect \n",
    "models performance.\n",
    "\n",
    "- Preprocessing : Normalizing pixel values helps in standardising the input data which allows the model to learn easier. Cropping function is beneficial for focusing on the relevant region within MRI images, reducing noise and irrelevant information.\n",
    "\n",
    "- Model Development : Designing and training CNN architecture tailered for brain tumor detection."
   ]
  },
  {
   "cell_type": "markdown",
   "metadata": {},
   "source": [
    "# Importing Libararies and modules"
   ]
  },
  {
   "cell_type": "code",
   "execution_count": 4,
   "metadata": {},
   "outputs": [],
   "source": [
    "import cv2\n",
    "import os\n",
    "import numpy as np\n",
    "import pandas as pd\n",
    "import seaborn as sns\n",
    "import random\n",
    "import matplotlib.pyplot as plt\n",
    "import tensorflow as tf\n",
    "from sklearn.utils import shuffle\n",
    "import glob\n",
    "from tensorflow.keras.models import Model,Sequential\n",
    "from tensorflow.keras.layers import Input,Conv2D, Dense, Flatten ,Dropout ,MaxPooling2D,BatchNormalization,GlobalAveragePooling2D\n",
    "from tensorflow.keras.utils import to_categorical\n",
    "from sklearn.model_selection import train_test_split\n",
    "from tensorflow.keras.callbacks import EarlyStopping,LearningRateScheduler,ReduceLROnPlateau\n",
    "from tensorflow.keras.preprocessing.image import ImageDataGenerator\n",
    "from keras.optimizers import Adam,RMSprop\n",
    "from sklearn.metrics import accuracy_score, confusion_matrix\n",
    "from keras.applications.vgg16 import VGG16, preprocess_input\n",
    "from tensorflow.keras import regularizers\n",
    "from PIL import Image\n",
    "from efficientnet.tfkeras import EfficientNetB0  "
   ]
  },
  {
   "cell_type": "code",
   "execution_count": 5,
   "metadata": {},
   "outputs": [],
   "source": [
    "# Generate the same seed so that code produces same result each time its run\n",
    "\n",
    "np.random.seed(42)\n",
    "random.seed(42)\n",
    "tf.random.set_seed(42)"
   ]
  },
  {
   "cell_type": "markdown",
   "metadata": {},
   "source": [
    "# Dataset Preperation"
   ]
  },
  {
   "cell_type": "code",
   "execution_count": null,
   "metadata": {},
   "outputs": [],
   "source": [
    "img_dir = '/Users/Arei/Desktop\\Mess/Classification of Brain Tumors/DataSet/brain_tumor_dataset'"
   ]
  }
 ],
 "metadata": {
  "kernelspec": {
   "display_name": "Python 3",
   "language": "python",
   "name": "python3"
  },
  "language_info": {
   "codemirror_mode": {
    "name": "ipython",
    "version": 3
   },
   "file_extension": ".py",
   "mimetype": "text/x-python",
   "name": "python",
   "nbconvert_exporter": "python",
   "pygments_lexer": "ipython3",
   "version": "3.12.2"
  }
 },
 "nbformat": 4,
 "nbformat_minor": 2
}
